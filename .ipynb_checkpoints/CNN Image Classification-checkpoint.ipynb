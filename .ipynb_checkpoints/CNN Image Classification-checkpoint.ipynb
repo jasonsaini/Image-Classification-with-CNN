{
 "cells": [
  {
   "cell_type": "markdown",
   "id": "b2ef034f-4bc8-4648-a1a9-55c2e6d3adc7",
   "metadata": {},
   "source": [
    "## Setup & Load Data"
   ]
  },
  {
   "cell_type": "code",
   "execution_count": 5,
   "id": "8bf88a7a-63ea-4089-9afc-94501c3733c1",
   "metadata": {},
   "outputs": [
    {
     "name": "stderr",
     "output_type": "stream",
     "text": [
      "ERROR: Could not find a version that satisfies the requirement gpu (from versions: none)\n",
      "ERROR: No matching distribution found for gpu\n"
     ]
    },
    {
     "name": "stdout",
     "output_type": "stream",
     "text": [
      "Collecting tensorflow\n",
      "  Using cached tensorflow-2.15.0-cp311-cp311-win_amd64.whl.metadata (3.6 kB)\n"
     ]
    }
   ],
   "source": [
    "# install dependencies\n",
    "!pip install tensorflow tensorflow-gpu opencv python matplotlib"
   ]
  },
  {
   "cell_type": "code",
   "execution_count": null,
   "id": "bfa873dc-b303-4a24-a191-2b130706ae72",
   "metadata": {},
   "outputs": [],
   "source": []
  },
  {
   "cell_type": "code",
   "execution_count": null,
   "id": "1d120377-3052-474a-8c31-98c50ecb3ca5",
   "metadata": {},
   "outputs": [],
   "source": []
  }
 ],
 "metadata": {
  "kernelspec": {
   "display_name": "Python 3 (ipykernel)",
   "language": "python",
   "name": "python3"
  },
  "language_info": {
   "codemirror_mode": {
    "name": "ipython",
    "version": 3
   },
   "file_extension": ".py",
   "mimetype": "text/x-python",
   "name": "python",
   "nbconvert_exporter": "python",
   "pygments_lexer": "ipython3",
   "version": "3.11.5"
  }
 },
 "nbformat": 4,
 "nbformat_minor": 5
}
